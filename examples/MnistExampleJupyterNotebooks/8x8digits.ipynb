{
 "cells": [
  {
   "cell_type": "code",
   "execution_count": 1,
   "metadata": {},
   "outputs": [
    {
     "name": "stdout",
     "output_type": "stream",
     "text": [
      "2.2.0-rc3\n"
     ]
    }
   ],
   "source": [
    "#This code is almost the same as the one is HandWrittenDigits, but it uese a 8x8 limited version of mnist from sklearn\n",
    "\n",
    "# TensorFlow and tf.keras\n",
    "import tensorflow as tf\n",
    "from tensorflow import keras\n",
    "\n",
    "# Helper libraries\n",
    "import numpy as np\n",
    "import matplotlib.pyplot as plt\n",
    "import random\n",
    "\n",
    "print(tf.__version__)\n"
   ]
  },
  {
   "cell_type": "code",
   "execution_count": 2,
   "metadata": {},
   "outputs": [],
   "source": [
    "from sklearn.datasets import load_digits\n",
    "digits = load_digits()"
   ]
  },
  {
   "cell_type": "code",
   "execution_count": 3,
   "metadata": {},
   "outputs": [
    {
     "data": {
      "text/plain": [
       "numpy.ndarray"
      ]
     },
     "execution_count": 3,
     "metadata": {},
     "output_type": "execute_result"
    }
   ],
   "source": [
    "type(digits.data)\n"
   ]
  },
  {
   "cell_type": "code",
   "execution_count": 4,
   "metadata": {},
   "outputs": [
    {
     "data": {
      "text/plain": [
       "((1797, 64), (1797,), (1797, 8, 8))"
      ]
     },
     "execution_count": 4,
     "metadata": {},
     "output_type": "execute_result"
    }
   ],
   "source": [
    "(digits.data.shape, digits.target.shape, digits.images.shape)"
   ]
  },
  {
   "cell_type": "code",
   "execution_count": 5,
   "metadata": {},
   "outputs": [],
   "source": [
    "import numpy as np\n",
    "import matplotlib.pyplot as plt\n",
    "%matplotlib inline"
   ]
  },
  {
   "cell_type": "code",
   "execution_count": 6,
   "metadata": {},
   "outputs": [
    {
     "data": {
      "image/png": "[encoded data removed]",
      "text/plain": [
       "<Figure size 1440x288 with 5 Axes>"
      ]
     },
     "metadata": {
      "needs_background": "light"
     },
     "output_type": "display_data"
    }
   ],
   "source": [
    "plt.figure(figsize=(20,4))\n",
    "for index, (image, label) in enumerate(zip(digits.data[0:5], \n",
    "                                           digits.target[0:5])):\n",
    "    plt.subplot(1, 5, index + 1)\n",
    "    plt.imshow(np.reshape(image, (8,8)), cmap=plt.cm.gray)\n",
    "    plt.title('Training: %i\\n' % label, fontsize = 20);"
   ]
  },
  {
   "cell_type": "code",
   "execution_count": 7,
   "metadata": {},
   "outputs": [],
   "source": [
    "from sklearn.model_selection import train_test_split\n",
    "train_images,  test_images, train_labels, test_labels = train_test_split(digits.data, \n",
    "                                                    digits.target,\n",
    "                                                   test_size=0.25,\n",
    "                                                   random_state=0)"
   ]
  },
  {
   "cell_type": "code",
   "execution_count": 8,
   "metadata": {},
   "outputs": [
    {
     "name": "stdout",
     "output_type": "stream",
     "text": [
      "[ 0.  0.  4. 10. 11.  4.  0.  0.  0.  1. 11. 16. 16. 14.  0.  0.  0.  4.\n",
      " 16. 16. 16. 12.  0.  0.  0.  4. 16. 16. 16.  7.  0.  0.  0.  4. 16. 16.\n",
      " 16.  8.  0.  0.  0.  4. 16. 16. 16.  7.  0.  0.  0.  3. 15. 16. 16. 12.\n",
      "  0.  0.  0.  0.  5. 12. 12. 12.  1.  0.]\n",
      "Pixels are normalized\n"
     ]
    }
   ],
   "source": [
    "# Normalize the input image so that each pixel value is between 0 to 1.\n",
    "print(train_images[5])\n",
    "train_images = np.float32(train_images / 16.0)\n",
    "test_images = np.float32(test_images / 16.0)\n",
    "print('Pixels are normalized')"
   ]
  },
  {
   "cell_type": "code",
   "execution_count": 9,
   "metadata": {},
   "outputs": [
    {
     "data": {
      "image/png": "[encoded data removed]",
      "text/plain": [
       "<Figure size 720x720 with 25 Axes>"
      ]
     },
     "metadata": {},
     "output_type": "display_data"
    }
   ],
   "source": [
    "## Show the first 25 images in the training dataset.\n",
    "plt.figure(figsize=(10,10))\n",
    "for i in range(25):\n",
    "  plt.subplot(5,5,i+1)\n",
    "  plt.xticks([])\n",
    "  plt.yticks([])\n",
    "  plt.grid(False)\n",
    "  plt.imshow(np.reshape(train_images[i],(8,8)), cmap=plt.cm.gray)\n",
    "  plt.xlabel(train_labels[i])\n",
    "plt.show()\n",
    "train_images = np.reshape(train_images,(1347,8,8))\n",
    "test_images = np.reshape(test_images,(450,8,8))"
   ]
  },
  {
   "cell_type": "code",
   "execution_count": 10,
   "metadata": {},
   "outputs": [
    {
     "name": "stdout",
     "output_type": "stream",
     "text": [
      "Epoch 1/75\n",
      "43/43 [==============================] - 0s 2ms/step - loss: 2.0676 - accuracy: 0.3957\n",
      "Epoch 2/75\n",
      "43/43 [==============================] - 0s 1ms/step - loss: 1.1111 - accuracy: 0.7491\n",
      "Epoch 3/75\n",
      "43/43 [==============================] - 0s 1ms/step - loss: 0.5015 - accuracy: 0.8723\n",
      "Epoch 4/75\n",
      "43/43 [==============================] - 0s 1ms/step - loss: 0.3084 - accuracy: 0.9176\n",
      "Epoch 5/75\n",
      "43/43 [==============================] - 0s 1ms/step - loss: 0.2536 - accuracy: 0.9376\n",
      "Epoch 6/75\n",
      "43/43 [==============================] - 0s 1ms/step - loss: 0.2197 - accuracy: 0.9399\n",
      "Epoch 7/75\n",
      "43/43 [==============================] - 0s 1ms/step - loss: 0.1889 - accuracy: 0.9555\n",
      "Epoch 8/75\n",
      "43/43 [==============================] - 0s 1ms/step - loss: 0.1584 - accuracy: 0.9569\n",
      "Epoch 9/75\n",
      "43/43 [==============================] - 0s 1ms/step - loss: 0.1597 - accuracy: 0.9584\n",
      "Epoch 10/75\n",
      "43/43 [==============================] - 0s 1ms/step - loss: 0.1336 - accuracy: 0.9666\n",
      "Epoch 11/75\n",
      "43/43 [==============================] - 0s 1ms/step - loss: 0.1083 - accuracy: 0.9710\n",
      "Epoch 12/75\n",
      "43/43 [==============================] - 0s 1ms/step - loss: 0.1170 - accuracy: 0.9755\n",
      "Epoch 13/75\n",
      "43/43 [==============================] - 0s 1ms/step - loss: 0.1114 - accuracy: 0.9688\n",
      "Epoch 14/75\n",
      "43/43 [==============================] - 0s 1ms/step - loss: 0.0907 - accuracy: 0.9785\n",
      "Epoch 15/75\n",
      "43/43 [==============================] - 0s 1ms/step - loss: 0.0733 - accuracy: 0.9829\n",
      "Epoch 16/75\n",
      "43/43 [==============================] - 0s 1ms/step - loss: 0.0762 - accuracy: 0.9837\n",
      "Epoch 17/75\n",
      "43/43 [==============================] - 0s 1ms/step - loss: 0.0773 - accuracy: 0.9822\n",
      "Epoch 18/75\n",
      "43/43 [==============================] - 0s 1ms/step - loss: 0.0622 - accuracy: 0.9866\n",
      "Epoch 19/75\n",
      "43/43 [==============================] - 0s 1ms/step - loss: 0.0600 - accuracy: 0.9822\n",
      "Epoch 20/75\n",
      "43/43 [==============================] - 0s 1ms/step - loss: 0.0576 - accuracy: 0.9866\n",
      "Epoch 21/75\n",
      "43/43 [==============================] - 0s 1ms/step - loss: 0.0608 - accuracy: 0.9807\n",
      "Epoch 22/75\n",
      "43/43 [==============================] - 0s 1ms/step - loss: 0.0493 - accuracy: 0.9866\n",
      "Epoch 23/75\n",
      "43/43 [==============================] - 0s 1ms/step - loss: 0.0425 - accuracy: 0.9874\n",
      "Epoch 24/75\n",
      "43/43 [==============================] - 0s 1ms/step - loss: 0.0440 - accuracy: 0.9896\n",
      "Epoch 25/75\n",
      "43/43 [==============================] - 0s 1ms/step - loss: 0.0367 - accuracy: 0.9918\n",
      "Epoch 26/75\n",
      "43/43 [==============================] - 0s 1ms/step - loss: 0.0481 - accuracy: 0.9866\n",
      "Epoch 27/75\n",
      "43/43 [==============================] - 0s 1ms/step - loss: 0.0385 - accuracy: 0.9911\n",
      "Epoch 28/75\n",
      "43/43 [==============================] - 0s 1ms/step - loss: 0.0351 - accuracy: 0.9926\n",
      "Epoch 29/75\n",
      "43/43 [==============================] - 0s 1ms/step - loss: 0.0348 - accuracy: 0.9903\n",
      "Epoch 30/75\n",
      "43/43 [==============================] - 0s 1ms/step - loss: 0.0312 - accuracy: 0.9926\n",
      "Epoch 31/75\n",
      "43/43 [==============================] - 0s 1ms/step - loss: 0.0220 - accuracy: 0.9970\n",
      "Epoch 32/75\n",
      "43/43 [==============================] - 0s 1ms/step - loss: 0.0278 - accuracy: 0.9903\n",
      "Epoch 33/75\n",
      "43/43 [==============================] - 0s 1ms/step - loss: 0.0249 - accuracy: 0.9933\n",
      "Epoch 34/75\n",
      "43/43 [==============================] - 0s 1ms/step - loss: 0.0230 - accuracy: 0.9933\n",
      "Epoch 35/75\n",
      "43/43 [==============================] - 0s 1ms/step - loss: 0.0243 - accuracy: 0.9941\n",
      "Epoch 36/75\n",
      "43/43 [==============================] - 0s 1ms/step - loss: 0.0202 - accuracy: 0.9963\n",
      "Epoch 37/75\n",
      "43/43 [==============================] - 0s 1ms/step - loss: 0.0278 - accuracy: 0.9955\n",
      "Epoch 38/75\n",
      "43/43 [==============================] - 0s 1ms/step - loss: 0.0354 - accuracy: 0.9889\n",
      "Epoch 39/75\n",
      "43/43 [==============================] - 0s 1ms/step - loss: 0.0215 - accuracy: 0.9933\n",
      "Epoch 40/75\n",
      "43/43 [==============================] - 0s 1ms/step - loss: 0.0154 - accuracy: 0.9955\n",
      "Epoch 41/75\n",
      "43/43 [==============================] - 0s 1ms/step - loss: 0.0180 - accuracy: 0.9970\n",
      "Epoch 42/75\n",
      "43/43 [==============================] - 0s 1ms/step - loss: 0.0162 - accuracy: 0.9955\n",
      "Epoch 43/75\n",
      "43/43 [==============================] - 0s 1ms/step - loss: 0.0209 - accuracy: 0.9941\n",
      "Epoch 44/75\n",
      "43/43 [==============================] - 0s 1ms/step - loss: 0.0145 - accuracy: 0.9978\n",
      "Epoch 45/75\n",
      "43/43 [==============================] - 0s 1ms/step - loss: 0.0140 - accuracy: 0.9985\n",
      "Epoch 46/75\n",
      "43/43 [==============================] - 0s 1ms/step - loss: 0.0158 - accuracy: 0.9985\n",
      "Epoch 47/75\n",
      "43/43 [==============================] - 0s 1ms/step - loss: 0.0092 - accuracy: 0.9978\n",
      "Epoch 48/75\n",
      "43/43 [==============================] - 0s 1ms/step - loss: 0.0128 - accuracy: 0.9978\n",
      "Epoch 49/75\n",
      "43/43 [==============================] - 0s 1ms/step - loss: 0.0112 - accuracy: 0.9985\n",
      "Epoch 50/75\n",
      "43/43 [==============================] - 0s 1ms/step - loss: 0.0116 - accuracy: 0.9978\n",
      "Epoch 51/75\n",
      "43/43 [==============================] - 0s 1ms/step - loss: 0.0148 - accuracy: 0.9955\n",
      "Epoch 52/75\n",
      "43/43 [==============================] - 0s 1ms/step - loss: 0.0093 - accuracy: 0.9978\n",
      "Epoch 53/75\n",
      "43/43 [==============================] - 0s 1ms/step - loss: 0.0107 - accuracy: 0.9970\n",
      "Epoch 54/75\n",
      "43/43 [==============================] - 0s 1ms/step - loss: 0.0151 - accuracy: 0.9955\n",
      "Epoch 55/75\n",
      "43/43 [==============================] - 0s 1ms/step - loss: 0.0110 - accuracy: 0.9970\n",
      "Epoch 56/75\n",
      "43/43 [==============================] - 0s 1ms/step - loss: 0.0087 - accuracy: 1.0000\n",
      "Epoch 57/75\n",
      "43/43 [==============================] - 0s 1ms/step - loss: 0.0294 - accuracy: 0.9955\n",
      "Epoch 58/75\n",
      "43/43 [==============================] - 0s 1ms/step - loss: 0.0421 - accuracy: 0.9844\n",
      "Epoch 59/75\n",
      "43/43 [==============================] - 0s 1ms/step - loss: 0.0125 - accuracy: 0.9978\n",
      "Epoch 60/75\n",
      "43/43 [==============================] - 0s 1ms/step - loss: 0.0117 - accuracy: 0.9955\n",
      "Epoch 61/75\n",
      "43/43 [==============================] - 0s 1ms/step - loss: 0.0075 - accuracy: 0.9993\n",
      "Epoch 62/75\n",
      "43/43 [==============================] - 0s 1ms/step - loss: 0.0083 - accuracy: 0.9970\n",
      "Epoch 63/75\n",
      "43/43 [==============================] - 0s 1ms/step - loss: 0.0096 - accuracy: 0.9993\n",
      "Epoch 64/75\n",
      "43/43 [==============================] - 0s 1ms/step - loss: 0.0055 - accuracy: 1.0000\n",
      "Epoch 65/75\n",
      "43/43 [==============================] - 0s 1ms/step - loss: 0.0066 - accuracy: 0.9985\n",
      "Epoch 66/75\n",
      "43/43 [==============================] - 0s 1ms/step - loss: 0.0098 - accuracy: 0.9970\n",
      "Epoch 67/75\n",
      "43/43 [==============================] - 0s 1ms/step - loss: 0.0098 - accuracy: 0.9985\n",
      "Epoch 68/75\n",
      "43/43 [==============================] - 0s 1ms/step - loss: 0.0078 - accuracy: 0.9985\n",
      "Epoch 69/75\n",
      "43/43 [==============================] - 0s 1ms/step - loss: 0.0049 - accuracy: 1.0000\n",
      "Epoch 70/75\n",
      "43/43 [==============================] - 0s 1ms/step - loss: 0.0052 - accuracy: 0.9993\n",
      "Epoch 71/75\n",
      "43/43 [==============================] - 0s 1ms/step - loss: 0.0065 - accuracy: 0.9985\n",
      "Epoch 72/75\n",
      "43/43 [==============================] - 0s 1ms/step - loss: 0.0085 - accuracy: 0.9985\n",
      "Epoch 73/75\n",
      "43/43 [==============================] - 0s 1ms/step - loss: 0.0135 - accuracy: 0.9978\n",
      "Epoch 74/75\n",
      "43/43 [==============================] - 0s 1ms/step - loss: 0.0071 - accuracy: 0.9985\n",
      "Epoch 75/75\n",
      "43/43 [==============================] - 0s 1ms/step - loss: 0.0060 - accuracy: 0.9985\n"
     ]
    },
    {
     "data": {
      "text/plain": [
       "<tensorflow.python.keras.callbacks.History at 0x7f2174330880>"
      ]
     },
     "execution_count": 10,
     "metadata": {},
     "output_type": "execute_result"
    }
   ],
   "source": [
    "# Define the model architecture\n",
    "model = keras.Sequential([\n",
    "  keras.layers.InputLayer(input_shape=(8, 8)),\n",
    "  keras.layers.Reshape(target_shape=(8, 8, 1)),\n",
    "  keras.layers.Conv2D(filters=32, kernel_size=(3, 3), activation=tf.nn.relu),\n",
    "  keras.layers.Conv2D(filters=64, kernel_size=(3, 3), activation=tf.nn.relu),\n",
    "  keras.layers.MaxPooling2D(pool_size=(2, 2)),\n",
    "  keras.layers.Dropout(0.25),\n",
    "  keras.layers.Flatten(),\n",
    "  keras.layers.Dense(10)\n",
    "])\n",
    "# Define how to train the model\n",
    "model.compile(optimizer='adam',\n",
    "              loss=tf.keras.losses.SparseCategoricalCrossentropy(from_logits=True),\n",
    "              metrics=['accuracy'])\n",
    "\n",
    "# Train the digit classification model\n",
    "model.fit(train_images,train_labels, epochs=75)"
   ]
  },
  {
   "cell_type": "code",
   "execution_count": 11,
   "metadata": {},
   "outputs": [
    {
     "name": "stdout",
     "output_type": "stream",
     "text": [
      "Model: \"sequential\"\n",
      "_________________________________________________________________\n",
      "Layer (type)                 Output Shape              Param #   \n",
      "=================================================================\n",
      "reshape (Reshape)            (None, 8, 8, 1)           0         \n",
      "_________________________________________________________________\n",
      "conv2d (Conv2D)              (None, 6, 6, 32)          320       \n",
      "_________________________________________________________________\n",
      "conv2d_1 (Conv2D)            (None, 4, 4, 64)          18496     \n",
      "_________________________________________________________________\n",
      "max_pooling2d (MaxPooling2D) (None, 2, 2, 64)          0         \n",
      "_________________________________________________________________\n",
      "dropout (Dropout)            (None, 2, 2, 64)          0         \n",
      "_________________________________________________________________\n",
      "flatten (Flatten)            (None, 256)               0         \n",
      "_________________________________________________________________\n",
      "dense (Dense)                (None, 10)                2570      \n",
      "=================================================================\n",
      "Total params: 21,386\n",
      "Trainable params: 21,386\n",
      "Non-trainable params: 0\n",
      "_________________________________________________________________\n"
     ]
    }
   ],
   "source": [
    "model.summary()"
   ]
  },
  {
   "cell_type": "code",
   "execution_count": 12,
   "metadata": {},
   "outputs": [
    {
     "name": "stdout",
     "output_type": "stream",
     "text": [
      "15/15 [==============================] - 0s 720us/step - loss: 0.0622 - accuracy: 0.9778\n",
      "Test accuracy: 0.9777777791023254\n"
     ]
    }
   ],
   "source": [
    "# Evaluate the model using all images in the test dataset.\n",
    "test_loss, test_acc = model.evaluate(test_images, test_labels)\n",
    "\n",
    "print('Test accuracy:', test_acc)"
   ]
  },
  {
   "cell_type": "code",
   "execution_count": 13,
   "metadata": {},
   "outputs": [
    {
     "data": {
      "image/png": "[encoded data removed]",
      "text/plain": [
       "<Figure size 1296x1296 with 100 Axes>"
      ]
     },
     "metadata": {},
     "output_type": "display_data"
    }
   ],
   "source": [
    "# A helper function that returns 'red'/'black' depending on if its two input\n",
    "# parameter matches or not.\n",
    "def get_label_color(val1, val2):\n",
    "  if val1 == val2:\n",
    "    return 'black'\n",
    "  else:\n",
    "    return 'red'\n",
    "\n",
    "# Predict the labels of digit images in our test dataset.\n",
    "predictions = model.predict(test_images)\n",
    "#print(predictions[0])\n",
    "# As the model output 10 float representing the probability of the input image\n",
    "# being a digit from 0 to 9, we need to find the largest probability value\n",
    "# to find out which digit the model predicts to be most likely in the image.\n",
    "prediction_digits = np.argmax(predictions, axis=1)\n",
    "#print(prediction_digits)\n",
    "#print(len(prediction_digits))\n",
    "\n",
    "# Then plot 100 random test images and their predicted labels.\n",
    "# If a prediction result is different from the label provided label in \"test\"\n",
    "# dataset, we will highlight it in red color.\n",
    "plt.figure(figsize=(18, 18))\n",
    "for i in range(100):\n",
    "  ax = plt.subplot(10, 10, i+1)\n",
    "  plt.xticks([])\n",
    "  plt.yticks([])\n",
    "  plt.grid(False)\n",
    "  image_index = random.randint(0, len(prediction_digits)-1)\n",
    "  plt.imshow(test_images[image_index], cmap=plt.cm.gray)\n",
    "  ax.xaxis.label.set_color(get_label_color(prediction_digits[image_index],\\\n",
    "                                           test_labels[image_index]))\n",
    "  plt.xlabel('Predicted: %d (%d)' % (prediction_digits[image_index],  test_labels[image_index]))\n",
    "  plt.imsave(\"8x8sampledigit\"+str(i) + \".png\",test_images[image_index],format=\"\"'png'\"\",cmap=plt.cm.gray)\n",
    "  with open(\"8x8sampledigit\" + str(i) + '.h', 'w') as file:\n",
    "        file.write(\"float input[]={\")\n",
    "        for x in range(8):\n",
    "            file.write(\"\\n\")\n",
    "            for y in range (8):\n",
    "                 file.write(str(test_images[image_index][x][y]))\n",
    "                 if (x != 7) or (y != 7) :\n",
    "                    file.write(\" , \")\n",
    "        file.write(\"};\\n\")\n",
    "                    \n",
    "plt.show()"
   ]
  },
  {
   "cell_type": "code",
   "execution_count": 14,
   "metadata": {},
   "outputs": [
    {
     "name": "stdout",
     "output_type": "stream",
     "text": [
      "Float model size = 85KBs.\n",
      "float32\n"
     ]
    }
   ],
   "source": [
    "# Convert Keras model to TF Lite format.\n",
    "converter = tf.lite.TFLiteConverter.from_keras_model(model)\n",
    "tflite_float_model = converter.convert()\n",
    "\n",
    "# Show model size in KBs.\n",
    "float_model_size = len(tflite_float_model) / 1024\n",
    "print('Float model size = %dKBs.' % float_model_size)\n",
    "\n",
    "print (train_images[0].dtype)"
   ]
  },
  {
   "cell_type": "code",
   "execution_count": 15,
   "metadata": {},
   "outputs": [
    {
     "name": "stdout",
     "output_type": "stream",
     "text": [
      "Quantized model size = 27KBs,\n",
      "which is about 32% of the float model size.\n"
     ]
    }
   ],
   "source": [
    "# Re-convert the model to TF Lite using quantization.\n",
    "converter.optimizations = [tf.lite.Optimize.DEFAULT]\n",
    "\n",
    "'''def representative_dataset_gen():\n",
    "  for _ in range(num_calibration_steps):\n",
    "    # Get sample input data as a numpy array in a method of your choosing.\n",
    "    yield [input]\n",
    "converter.representative_dataset = representative_dataset_gen\n",
    "converter.target_spec.supported_ops = [tf.lite.OpsSet.TFLITE_BUILTINS_INT8]\n",
    "converter.inference_input_type = tf.int8  # or tf.uint8\n",
    "converter.inference_output_type = tf.int8  # or tf.uint8\n",
    "\n",
    "converter.inference_input_type = tf.float32  # or tf.uint8\n",
    "converter.inference_output_type = tf.float32  # or tf.uint8\n",
    "converter.target_spec.supported_ops = [tf.lite.OpsSet.TFLITE_BUILTINS_INT8]\n",
    "'''\n",
    "def representative_dataset():\n",
    "  for i in range(1):\n",
    "#    yield([train_images[i].reshape(1,64)])\n",
    "    yield [train_images[i:i+1]]\n",
    "converter.representative_dataset = representative_dataset\n",
    "tflite_quantized_model = converter.convert()\n",
    "\n",
    "# Show model size in KBs.\n",
    "quantized_model_size = len(tflite_quantized_model) / 1024\n",
    "print('Quantized model size = %dKBs,' % quantized_model_size)\n",
    "print('which is about %d%% of the float model size.'\\\n",
    "      % (quantized_model_size * 100 / float_model_size))\n"
   ]
  },
  {
   "cell_type": "code",
   "execution_count": 16,
   "metadata": {},
   "outputs": [
    {
     "name": "stdout",
     "output_type": "stream",
     "text": [
      "Float model accuracy = 0.9778\n",
      "Quantized model accuracy = 0.9778\n",
      "Accuracy drop = 0.0000\n"
     ]
    }
   ],
   "source": [
    "# A helper function to evaluate the TF Lite model using \"test\" dataset.\n",
    "def evaluate_tflite_model(tflite_model):\n",
    "  # Initialize TFLite interpreter using the model.\n",
    "  interpreter = tf.lite.Interpreter(model_content=tflite_model)\n",
    "  interpreter.allocate_tensors()\n",
    "  input_tensor_index = interpreter.get_input_details()[0][\"index\"]\n",
    "  output = interpreter.tensor(interpreter.get_output_details()[0][\"index\"])\n",
    "\n",
    "  # Run predictions on every image in the \"test\" dataset.\n",
    "  prediction_digits = []\n",
    "  for test_image in test_images:\n",
    "    # Pre-processing: add batch dimension and convert to float32 to match with\n",
    "    # the model's input data format.\n",
    "    test_image = np.expand_dims(test_image, axis=0).astype(np.float32)\n",
    "    interpreter.set_tensor(input_tensor_index, test_image)\n",
    "\n",
    "    # Run inference.\n",
    "    interpreter.invoke()\n",
    "\n",
    "    # Post-processing: remove batch dimension and find the digit with highest\n",
    "    # probability.\n",
    "    digit = np.argmax(output()[0])\n",
    "    prediction_digits.append(digit)\n",
    "\n",
    "  # Compare prediction results with ground truth labels to calculate accuracy.\n",
    "  accurate_count = 0\n",
    "  for index in range(len(prediction_digits)):\n",
    "    if prediction_digits[index] == test_labels[index]:\n",
    "      accurate_count += 1\n",
    "  accuracy = accurate_count * 1.0 / len(prediction_digits)\n",
    "\n",
    "  return accuracy\n",
    "\n",
    "# Evaluate the TF Lite float model. You'll find that its accurary is identical\n",
    "# to the original TF (Keras) model because they are essentially the same model\n",
    "# stored in different format.\n",
    "float_accuracy = evaluate_tflite_model(tflite_float_model)\n",
    "print('Float model accuracy = %.4f' % float_accuracy)\n",
    "\n",
    "# Evalualte the TF Lite quantized model.\n",
    "# Don't be surprised if you see quantized model accuracy is higher than\n",
    "# the original float model. It happens sometimes :)\n",
    "quantized_accuracy = evaluate_tflite_model(tflite_quantized_model)\n",
    "print('Quantized model accuracy = %.4f' % quantized_accuracy)\n",
    "print('Accuracy drop = %.4f' % (float_accuracy - quantized_accuracy))"
   ]
  },
  {
   "cell_type": "code",
   "execution_count": 17,
   "metadata": {},
   "outputs": [],
   "source": [
    "# Save the quantized model to file to the Downloads directory\n",
    "f = open('8x8mnist.tflite', \"wb\")\n",
    "f.write(tflite_quantized_model)\n",
    "f.close()\n",
    "\n",
    "# Download the digit classification model\n",
    "#from google.colab import files\n",
    "#files.download('mnist.tflite')\n",
    "\n",
    "#print('`mnist.tflite` has been downloaded')"
   ]
  },
  {
   "cell_type": "code",
   "execution_count": 18,
   "metadata": {},
   "outputs": [],
   "source": [
    "# Function: Convert some hex value into an array for C programming\n",
    "def hex_to_c_array(hex_data, var_name):\n",
    "\n",
    "  c_str = ''\n",
    "\n",
    "  # Create header guard\n",
    "  c_str += '#ifndef ' + var_name.upper() + '_H\\n'\n",
    "  c_str += '#define ' + var_name.upper() + '_H\\n\\n'\n",
    "\n",
    "  # Add array length at top of file\n",
    "  c_str += '\\nunsigned int ' + var_name + '_len = ' + str(len(hex_data)) + ';\\n'\n",
    "\n",
    "  # Declare C variable\n",
    "  c_str += 'unsigned char ' + var_name + '[] = {'\n",
    "  hex_array = []\n",
    "  for i, val in enumerate(hex_data) :\n",
    "\n",
    "    # Construct string from hex\n",
    "    hex_str = format(val, '#04x')\n",
    "\n",
    "    # Add formatting so each line stays within 80 characters\n",
    "    if (i + 1) < len(hex_data):\n",
    "      hex_str += ','\n",
    "    if (i + 1) % 12 == 0:\n",
    "      hex_str += '\\n '\n",
    "    hex_array.append(hex_str)\n",
    "\n",
    "  # Add closing brace\n",
    "  c_str += '\\n ' + format(' '.join(hex_array)) + '\\n};\\n\\n'\n",
    "\n",
    "  # Close out header guard\n",
    "  c_str += '#endif //' + var_name.upper() + '_H'\n",
    "\n",
    "  return c_str"
   ]
  },
  {
   "cell_type": "code",
   "execution_count": 19,
   "metadata": {},
   "outputs": [],
   "source": [
    "tflite_model_name = '8x8mnist'  # Will be given .tflite suffix\n",
    "c_model_name = 'mnist'       # Will be given .h suffix\n",
    "with open(tflite_model_name + '.h', 'w') as file:\n",
    "  file.write(hex_to_c_array(tflite_quantized_model, c_model_name))"
   ]
  },
  {
   "cell_type": "code",
   "execution_count": null,
   "metadata": {},
   "outputs": [],
   "source": []
  }
 ],
 "metadata": {
  "kernelspec": {
   "display_name": "Python 3",
   "language": "python",
   "name": "python3"
  },
  "language_info": {
   "codemirror_mode": {
    "name": "ipython",
    "version": 3
   },
   "file_extension": ".py",
   "mimetype": "text/x-python",
   "name": "python",
   "nbconvert_exporter": "python",
   "pygments_lexer": "ipython3",
   "version": "3.8.2"
  }
 },
 "nbformat": 4,
 "nbformat_minor": 4
}
